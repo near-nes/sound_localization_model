{
 "cells": [
  {
   "cell_type": "code",
   "execution_count": 2,
   "metadata": {},
   "outputs": [
    {
     "name": "stderr",
     "output_type": "stream",
     "text": [
      "/mnt/c/Users/utente/Desktop/repos/hears_env/lib/python3.12/site-packages/setuptools/_distutils/_msvccompiler.py:12: UserWarning: _get_vc_env is private; find an alternative (pypa/distutils#340)\n",
      "  warnings.warn(\n"
     ]
    }
   ],
   "source": [
    "%reload_ext autoreload\n",
    "%autoreload 2\n",
    "\n",
    "import matplotlib.pyplot as plt\n",
    "import numpy as np\n",
    "import dill\n",
    "from tqdm import tqdm\n",
    "import sys\n",
    "import os\n",
    "\n",
    "# Get the current working directory\n",
    "current_dir = os.getcwd()\n",
    "# Add the parent directory to sys.path\n",
    "sys.path.append(os.path.dirname(current_dir))\n",
    "\n",
    "from analyze.report import calculate_vector_strength_from_result, calculate_vector_strength_from_result_polar\n"
   ]
  },
  {
   "cell_type": "code",
   "execution_count": 3,
   "metadata": {},
   "outputs": [
    {
     "name": "stdout",
     "output_type": "stream",
     "text": [
      "tone_0.1kHz_70dB&TanCarney&ild_only.pic\n",
      "tone_0.1kHz_70dB&TanCarney&itd_only.pic\n",
      "tone_0.1kHz_70dB&TanCarney&itd_only_myoga_inv.pic\n",
      "tone_0.1kHz_70dB&TanCarney&itd_only_myoga_null.pic\n",
      "tone_0.1kHz_70dB&TanCarney&itd_only_no_MSO_inh.pic\n",
      "tone_0.1kHz_70dB&TanCarney&subject_1.pic\n",
      "tone_0.1kHz_70dB&TanCarney&subject_1_myoga_inv.pic\n",
      "tone_0.1kHz_70dB&TanCarney&subject_1_myoga_null.pic\n",
      "tone_0.1kHz_70dB&TanCarney&subject_1_no_MSO_inh.pic\n",
      "tone_0.1kHz_70dB&TanCarney&subject_2.pic\n",
      "tone_0.2kHz_70dB&TanCarney&subject_1.pic\n",
      "tone_0.2kHz_70dB&TanCarney&subject_1_long.pic\n",
      "tone_0.3kHz_70dB&TanCarney&subject_1.pic\n",
      "tone_0.4kHz_70dB&TanCarney&subject_1.pic\n",
      "tone_0.5kHz_70dB&TanCarney&subject_1.pic\n",
      "tone_0.6kHz_70dB&TanCarney&subject_1.pic\n",
      "tone_0.7kHz_70dB&TanCarney&subject_1.pic\n",
      "tone_0.8kHz_70dB&TanCarney&subject_1.pic\n",
      "tone_0.9kHz_70dB&TanCarney&subject_1.pic\n",
      "tone_1.0kHz_70dB&TanCarney&subject_1.pic\n",
      "tone_1.1kHz_70dB&TanCarney&subject_1.pic\n",
      "tone_1.2kHz_70dB&TanCarney&subject_1.pic\n",
      "tone_1.3kHz_70dB&TanCarney&subject_1.pic\n",
      "tone_1.4kHz_70dB&TanCarney&subject_1.pic\n",
      "tone_1.5kHz_70dB&TanCarney&subject_1.pic\n",
      "tone_1.kHz_70dB&TanCarney&ild_only.pic\n",
      "tone_1.kHz_70dB&TanCarney&itd_only.pic\n",
      "tone_1.kHz_70dB&TanCarney&itd_only_myoga_inv.pic\n",
      "tone_1.kHz_70dB&TanCarney&itd_only_myoga_null.pic\n",
      "tone_1.kHz_70dB&TanCarney&itd_only_no_MSO_inh.pic\n",
      "tone_1.kHz_70dB&TanCarney&subject_1_myoga_inv.pic\n",
      "tone_1.kHz_70dB&TanCarney&subject_1_myoga_null.pic\n",
      "tone_1.kHz_70dB&TanCarney&subject_1_no_MSO_inh.pic\n",
      "tone_1.kHz_70dB&TanCarney&subject_2.pic\n",
      "tone_1.kHz_70dB&TanCarney&subject_2_no_MSO_inh.pic\n",
      "tone_10.0kHz_70dB&TanCarney&subject_1.pic\n",
      "tone_10.kHz_70dB&TanCarney&ild_only.pic\n",
      "tone_10.kHz_70dB&TanCarney&itd_only.pic\n",
      "tone_10.kHz_70dB&TanCarney&subject_2.pic\n",
      "vs_data_100_ANFs_11_tones.pkl\n",
      "vs_data_8_ANFs_12_tones.pkl\n"
     ]
    }
   ],
   "source": [
    "# List directory contents\n",
    "result_dir = '/mnt/c/Users/utente/OneDrive - Politecnico di Milano/work/sl_results/'\n",
    "items = os.listdir(result_dir)\n",
    "for item in items:\n",
    "    print(item) "
   ]
  },
  {
   "cell_type": "code",
   "execution_count": 9,
   "metadata": {},
   "outputs": [],
   "source": [
    "cfs = np.arange(100,1600,100)\n",
    "tones = [.1,.2,.3,.4,.5,.6,.7,.8,.9,1.,1.1,1.2,1.3,1.4,1.5]\n",
    "vs_data = np.zeros((len(tones), len(cfs)))"
   ]
  },
  {
   "cell_type": "code",
   "execution_count": 10,
   "metadata": {},
   "outputs": [
    {
     "name": "stderr",
     "output_type": "stream",
     "text": [
      "  0%|          | 0/15 [00:00<?, ?it/s]"
     ]
    },
    {
     "name": "stdout",
     "output_type": "stream",
     "text": [
      "Frequency: 0.1kHz, CF target: 100, Vector Strength: 0.6769017754141142\n"
     ]
    },
    {
     "name": "stderr",
     "output_type": "stream",
     "text": []
    },
    {
     "name": "stdout",
     "output_type": "stream",
     "text": [
      "Frequency: 0.1kHz, CF target: 200, Vector Strength: 0.15985292826046496\n"
     ]
    },
    {
     "name": "stderr",
     "output_type": "stream",
     "text": []
    },
    {
     "name": "stdout",
     "output_type": "stream",
     "text": [
      "Frequency: 0.1kHz, CF target: 300, Vector Strength: 0.10095114582488865\n"
     ]
    },
    {
     "name": "stderr",
     "output_type": "stream",
     "text": []
    },
    {
     "name": "stdout",
     "output_type": "stream",
     "text": [
      "Frequency: 0.1kHz, CF target: 400, Vector Strength: 0.11346376467793476\n"
     ]
    },
    {
     "name": "stderr",
     "output_type": "stream",
     "text": []
    },
    {
     "name": "stdout",
     "output_type": "stream",
     "text": [
      "Frequency: 0.1kHz, CF target: 500, Vector Strength: 0.13551676624658648\n"
     ]
    },
    {
     "name": "stderr",
     "output_type": "stream",
     "text": []
    },
    {
     "name": "stdout",
     "output_type": "stream",
     "text": [
      "Frequency: 0.1kHz, CF target: 600, Vector Strength: 0.1591365737435525\n"
     ]
    },
    {
     "name": "stderr",
     "output_type": "stream",
     "text": []
    },
    {
     "name": "stdout",
     "output_type": "stream",
     "text": [
      "Frequency: 0.1kHz, CF target: 700, Vector Strength: 0.15214834898659713\n"
     ]
    },
    {
     "name": "stderr",
     "output_type": "stream",
     "text": []
    },
    {
     "name": "stdout",
     "output_type": "stream",
     "text": [
      "Frequency: 0.1kHz, CF target: 800, Vector Strength: 0.11026339692640098\n"
     ]
    },
    {
     "name": "stderr",
     "output_type": "stream",
     "text": []
    },
    {
     "name": "stdout",
     "output_type": "stream",
     "text": [
      "Frequency: 0.1kHz, CF target: 900, Vector Strength: 0.1195536786654577\n"
     ]
    },
    {
     "name": "stderr",
     "output_type": "stream",
     "text": []
    },
    {
     "name": "stdout",
     "output_type": "stream",
     "text": [
      "Frequency: 0.1kHz, CF target: 1000, Vector Strength: 0.12218092979550751\n"
     ]
    },
    {
     "name": "stderr",
     "output_type": "stream",
     "text": []
    },
    {
     "name": "stdout",
     "output_type": "stream",
     "text": [
      "Frequency: 0.1kHz, CF target: 1100, Vector Strength: 0.10196749245661696\n"
     ]
    },
    {
     "name": "stderr",
     "output_type": "stream",
     "text": []
    },
    {
     "name": "stdout",
     "output_type": "stream",
     "text": [
      "Frequency: 0.1kHz, CF target: 1200, Vector Strength: 0.1792007026865149\n"
     ]
    },
    {
     "name": "stderr",
     "output_type": "stream",
     "text": []
    },
    {
     "name": "stdout",
     "output_type": "stream",
     "text": [
      "Frequency: 0.1kHz, CF target: 1300, Vector Strength: 0.19264997537369852\n"
     ]
    },
    {
     "name": "stderr",
     "output_type": "stream",
     "text": []
    },
    {
     "name": "stdout",
     "output_type": "stream",
     "text": [
      "Frequency: 0.1kHz, CF target: 1400, Vector Strength: 0.14083402160899136\n"
     ]
    },
    {
     "name": "stderr",
     "output_type": "stream",
     "text": [
      "100%|██████████| 15/15 [00:21<00:00,  1.46s/it]\n",
      "  7%|▋         | 1/15 [00:44<10:28, 44.87s/it]"
     ]
    },
    {
     "name": "stdout",
     "output_type": "stream",
     "text": [
      "Frequency: 0.1kHz, CF target: 1500, Vector Strength: 0.11249739834388417\n"
     ]
    },
    {
     "name": "stderr",
     "output_type": "stream",
     "text": []
    },
    {
     "name": "stdout",
     "output_type": "stream",
     "text": [
      "Frequency: 0.2kHz, CF target: 100, Vector Strength: 0.7548914712133589\n"
     ]
    },
    {
     "name": "stderr",
     "output_type": "stream",
     "text": []
    },
    {
     "name": "stdout",
     "output_type": "stream",
     "text": [
      "Frequency: 0.2kHz, CF target: 200, Vector Strength: 0.7795901052965871\n"
     ]
    },
    {
     "name": "stderr",
     "output_type": "stream",
     "text": []
    },
    {
     "name": "stdout",
     "output_type": "stream",
     "text": [
      "Frequency: 0.2kHz, CF target: 300, Vector Strength: 0.6716268933365799\n"
     ]
    },
    {
     "name": "stderr",
     "output_type": "stream",
     "text": []
    },
    {
     "name": "stdout",
     "output_type": "stream",
     "text": [
      "Frequency: 0.2kHz, CF target: 400, Vector Strength: 0.09264769931166159\n"
     ]
    },
    {
     "name": "stderr",
     "output_type": "stream",
     "text": []
    },
    {
     "name": "stdout",
     "output_type": "stream",
     "text": [
      "Frequency: 0.2kHz, CF target: 500, Vector Strength: 0.06754618463468022\n"
     ]
    },
    {
     "name": "stderr",
     "output_type": "stream",
     "text": []
    },
    {
     "name": "stdout",
     "output_type": "stream",
     "text": [
      "Frequency: 0.2kHz, CF target: 600, Vector Strength: 0.09882081504189948\n"
     ]
    },
    {
     "name": "stderr",
     "output_type": "stream",
     "text": []
    },
    {
     "name": "stdout",
     "output_type": "stream",
     "text": [
      "Frequency: 0.2kHz, CF target: 700, Vector Strength: 0.1413777730579836\n"
     ]
    },
    {
     "name": "stderr",
     "output_type": "stream",
     "text": []
    },
    {
     "name": "stdout",
     "output_type": "stream",
     "text": [
      "Frequency: 0.2kHz, CF target: 800, Vector Strength: 0.2048882350698452\n"
     ]
    },
    {
     "name": "stderr",
     "output_type": "stream",
     "text": []
    },
    {
     "name": "stdout",
     "output_type": "stream",
     "text": [
      "Frequency: 0.2kHz, CF target: 900, Vector Strength: 0.022830305653936334\n"
     ]
    },
    {
     "name": "stderr",
     "output_type": "stream",
     "text": []
    },
    {
     "name": "stdout",
     "output_type": "stream",
     "text": [
      "Frequency: 0.2kHz, CF target: 1000, Vector Strength: 0.10785035506083072\n"
     ]
    },
    {
     "name": "stderr",
     "output_type": "stream",
     "text": []
    },
    {
     "name": "stdout",
     "output_type": "stream",
     "text": [
      "Frequency: 0.2kHz, CF target: 1100, Vector Strength: 0.11089995435435505\n"
     ]
    },
    {
     "name": "stderr",
     "output_type": "stream",
     "text": []
    },
    {
     "name": "stdout",
     "output_type": "stream",
     "text": [
      "Frequency: 0.2kHz, CF target: 1200, Vector Strength: 0.20489751119760877\n"
     ]
    },
    {
     "name": "stderr",
     "output_type": "stream",
     "text": []
    },
    {
     "name": "stdout",
     "output_type": "stream",
     "text": [
      "Frequency: 0.2kHz, CF target: 1300, Vector Strength: 0.20207805445691215\n"
     ]
    },
    {
     "name": "stderr",
     "output_type": "stream",
     "text": []
    },
    {
     "name": "stdout",
     "output_type": "stream",
     "text": [
      "Frequency: 0.2kHz, CF target: 1400, Vector Strength: 0.13091825357763007\n"
     ]
    },
    {
     "name": "stderr",
     "output_type": "stream",
     "text": [
      "100%|██████████| 15/15 [00:46<00:00,  3.10s/it]\n",
      " 13%|█▎        | 2/15 [02:01<13:44, 63.40s/it]"
     ]
    },
    {
     "name": "stdout",
     "output_type": "stream",
     "text": [
      "Frequency: 0.2kHz, CF target: 1500, Vector Strength: 0.14799799536905722\n"
     ]
    },
    {
     "name": "stderr",
     "output_type": "stream",
     "text": []
    },
    {
     "name": "stdout",
     "output_type": "stream",
     "text": [
      "Frequency: 0.3kHz, CF target: 100, Vector Strength: 0.31975887758618415\n"
     ]
    },
    {
     "name": "stderr",
     "output_type": "stream",
     "text": []
    },
    {
     "name": "stdout",
     "output_type": "stream",
     "text": [
      "Frequency: 0.3kHz, CF target: 200, Vector Strength: 0.7120958714880727\n"
     ]
    },
    {
     "name": "stderr",
     "output_type": "stream",
     "text": []
    },
    {
     "name": "stdout",
     "output_type": "stream",
     "text": [
      "Frequency: 0.3kHz, CF target: 300, Vector Strength: 0.7537846815962471\n"
     ]
    },
    {
     "name": "stderr",
     "output_type": "stream",
     "text": []
    },
    {
     "name": "stdout",
     "output_type": "stream",
     "text": [
      "Frequency: 0.3kHz, CF target: 400, Vector Strength: 0.7055698051032949\n"
     ]
    },
    {
     "name": "stderr",
     "output_type": "stream",
     "text": []
    },
    {
     "name": "stdout",
     "output_type": "stream",
     "text": [
      "Frequency: 0.3kHz, CF target: 500, Vector Strength: 0.35796887578642145\n"
     ]
    },
    {
     "name": "stderr",
     "output_type": "stream",
     "text": []
    },
    {
     "name": "stdout",
     "output_type": "stream",
     "text": [
      "Frequency: 0.3kHz, CF target: 600, Vector Strength: 0.07337300961836218\n"
     ]
    },
    {
     "name": "stderr",
     "output_type": "stream",
     "text": []
    },
    {
     "name": "stdout",
     "output_type": "stream",
     "text": [
      "Frequency: 0.3kHz, CF target: 700, Vector Strength: 0.10775111473188728\n"
     ]
    },
    {
     "name": "stderr",
     "output_type": "stream",
     "text": []
    },
    {
     "name": "stdout",
     "output_type": "stream",
     "text": [
      "Frequency: 0.3kHz, CF target: 800, Vector Strength: 0.13974285011952908\n"
     ]
    },
    {
     "name": "stderr",
     "output_type": "stream",
     "text": []
    },
    {
     "name": "stdout",
     "output_type": "stream",
     "text": [
      "Frequency: 0.3kHz, CF target: 900, Vector Strength: 0.12722447503774456\n"
     ]
    },
    {
     "name": "stderr",
     "output_type": "stream",
     "text": []
    },
    {
     "name": "stdout",
     "output_type": "stream",
     "text": [
      "Frequency: 0.3kHz, CF target: 1000, Vector Strength: 0.1559564222319958\n"
     ]
    },
    {
     "name": "stderr",
     "output_type": "stream",
     "text": []
    },
    {
     "name": "stdout",
     "output_type": "stream",
     "text": [
      "Frequency: 0.3kHz, CF target: 1100, Vector Strength: 0.25995425166055597\n"
     ]
    },
    {
     "name": "stderr",
     "output_type": "stream",
     "text": []
    },
    {
     "name": "stdout",
     "output_type": "stream",
     "text": [
      "Frequency: 0.3kHz, CF target: 1200, Vector Strength: 0.15976368257149984\n"
     ]
    },
    {
     "name": "stderr",
     "output_type": "stream",
     "text": []
    },
    {
     "name": "stdout",
     "output_type": "stream",
     "text": [
      "Frequency: 0.3kHz, CF target: 1300, Vector Strength: 0.12818780727701581\n"
     ]
    },
    {
     "name": "stderr",
     "output_type": "stream",
     "text": []
    },
    {
     "name": "stdout",
     "output_type": "stream",
     "text": [
      "Frequency: 0.3kHz, CF target: 1400, Vector Strength: 0.09245914293718667\n"
     ]
    },
    {
     "name": "stderr",
     "output_type": "stream",
     "text": [
      "100%|██████████| 15/15 [00:30<00:00,  2.05s/it]\n",
      " 20%|██        | 3/15 [02:58<12:05, 60.47s/it]"
     ]
    },
    {
     "name": "stdout",
     "output_type": "stream",
     "text": [
      "Frequency: 0.3kHz, CF target: 1500, Vector Strength: 0.28714357419027314\n"
     ]
    },
    {
     "name": "stderr",
     "output_type": "stream",
     "text": []
    },
    {
     "name": "stdout",
     "output_type": "stream",
     "text": [
      "Frequency: 0.4kHz, CF target: 100, Vector Strength: 0.056906270159570005\n"
     ]
    },
    {
     "name": "stderr",
     "output_type": "stream",
     "text": []
    },
    {
     "name": "stdout",
     "output_type": "stream",
     "text": [
      "Frequency: 0.4kHz, CF target: 200, Vector Strength: 0.7172751441350121\n"
     ]
    },
    {
     "name": "stderr",
     "output_type": "stream",
     "text": []
    },
    {
     "name": "stdout",
     "output_type": "stream",
     "text": [
      "Frequency: 0.4kHz, CF target: 300, Vector Strength: 0.716834142983241\n"
     ]
    },
    {
     "name": "stderr",
     "output_type": "stream",
     "text": []
    },
    {
     "name": "stdout",
     "output_type": "stream",
     "text": [
      "Frequency: 0.4kHz, CF target: 400, Vector Strength: 0.719950028716794\n"
     ]
    },
    {
     "name": "stderr",
     "output_type": "stream",
     "text": []
    },
    {
     "name": "stdout",
     "output_type": "stream",
     "text": [
      "Frequency: 0.4kHz, CF target: 500, Vector Strength: 0.7500289022325128\n"
     ]
    },
    {
     "name": "stderr",
     "output_type": "stream",
     "text": []
    },
    {
     "name": "stdout",
     "output_type": "stream",
     "text": [
      "Frequency: 0.4kHz, CF target: 600, Vector Strength: 0.5205288298311239\n"
     ]
    },
    {
     "name": "stderr",
     "output_type": "stream",
     "text": []
    },
    {
     "name": "stdout",
     "output_type": "stream",
     "text": [
      "Frequency: 0.4kHz, CF target: 700, Vector Strength: 0.22606771032895087\n"
     ]
    },
    {
     "name": "stderr",
     "output_type": "stream",
     "text": []
    },
    {
     "name": "stdout",
     "output_type": "stream",
     "text": [
      "Frequency: 0.4kHz, CF target: 800, Vector Strength: 0.21475095607883016\n"
     ]
    },
    {
     "name": "stderr",
     "output_type": "stream",
     "text": []
    },
    {
     "name": "stdout",
     "output_type": "stream",
     "text": [
      "Frequency: 0.4kHz, CF target: 900, Vector Strength: 0.017925415742844338\n"
     ]
    },
    {
     "name": "stderr",
     "output_type": "stream",
     "text": []
    },
    {
     "name": "stdout",
     "output_type": "stream",
     "text": [
      "Frequency: 0.4kHz, CF target: 1000, Vector Strength: 0.09072822089826363\n"
     ]
    },
    {
     "name": "stderr",
     "output_type": "stream",
     "text": []
    },
    {
     "name": "stdout",
     "output_type": "stream",
     "text": [
      "Frequency: 0.4kHz, CF target: 1100, Vector Strength: 0.12232667109261237\n"
     ]
    },
    {
     "name": "stderr",
     "output_type": "stream",
     "text": []
    },
    {
     "name": "stdout",
     "output_type": "stream",
     "text": [
      "Frequency: 0.4kHz, CF target: 1200, Vector Strength: 0.13895639308693594\n"
     ]
    },
    {
     "name": "stderr",
     "output_type": "stream",
     "text": []
    },
    {
     "name": "stdout",
     "output_type": "stream",
     "text": [
      "Frequency: 0.4kHz, CF target: 1300, Vector Strength: 0.041068385953588485\n"
     ]
    },
    {
     "name": "stderr",
     "output_type": "stream",
     "text": []
    },
    {
     "name": "stdout",
     "output_type": "stream",
     "text": [
      "Frequency: 0.4kHz, CF target: 1400, Vector Strength: 0.12688611749222303\n"
     ]
    },
    {
     "name": "stderr",
     "output_type": "stream",
     "text": [
      "100%|██████████| 15/15 [00:28<00:00,  1.91s/it]\n",
      " 27%|██▋       | 4/15 [03:52<10:38, 58.09s/it]"
     ]
    },
    {
     "name": "stdout",
     "output_type": "stream",
     "text": [
      "Frequency: 0.4kHz, CF target: 1500, Vector Strength: 0.21534235066733334\n"
     ]
    },
    {
     "name": "stderr",
     "output_type": "stream",
     "text": []
    },
    {
     "name": "stdout",
     "output_type": "stream",
     "text": [
      "Frequency: 0.5kHz, CF target: 100, Vector Strength: 0.11507353863005727\n"
     ]
    },
    {
     "name": "stderr",
     "output_type": "stream",
     "text": []
    },
    {
     "name": "stdout",
     "output_type": "stream",
     "text": [
      "Frequency: 0.5kHz, CF target: 200, Vector Strength: 0.12061395550519165\n"
     ]
    },
    {
     "name": "stderr",
     "output_type": "stream",
     "text": []
    },
    {
     "name": "stdout",
     "output_type": "stream",
     "text": [
      "Frequency: 0.5kHz, CF target: 300, Vector Strength: 0.7085115036677997\n"
     ]
    },
    {
     "name": "stderr",
     "output_type": "stream",
     "text": []
    },
    {
     "name": "stdout",
     "output_type": "stream",
     "text": [
      "Frequency: 0.5kHz, CF target: 400, Vector Strength: 0.7301281950837757\n"
     ]
    },
    {
     "name": "stderr",
     "output_type": "stream",
     "text": []
    },
    {
     "name": "stdout",
     "output_type": "stream",
     "text": [
      "Frequency: 0.5kHz, CF target: 500, Vector Strength: 0.8248142231892047\n"
     ]
    },
    {
     "name": "stderr",
     "output_type": "stream",
     "text": []
    },
    {
     "name": "stdout",
     "output_type": "stream",
     "text": [
      "Frequency: 0.5kHz, CF target: 600, Vector Strength: 0.7545247048116823\n"
     ]
    },
    {
     "name": "stderr",
     "output_type": "stream",
     "text": []
    },
    {
     "name": "stdout",
     "output_type": "stream",
     "text": [
      "Frequency: 0.5kHz, CF target: 700, Vector Strength: 0.7001001606685768\n"
     ]
    },
    {
     "name": "stderr",
     "output_type": "stream",
     "text": []
    },
    {
     "name": "stdout",
     "output_type": "stream",
     "text": [
      "Frequency: 0.5kHz, CF target: 800, Vector Strength: 0.2595243251849523\n"
     ]
    },
    {
     "name": "stderr",
     "output_type": "stream",
     "text": []
    },
    {
     "name": "stdout",
     "output_type": "stream",
     "text": [
      "Frequency: 0.5kHz, CF target: 900, Vector Strength: 0.13051101755904493\n"
     ]
    },
    {
     "name": "stderr",
     "output_type": "stream",
     "text": []
    },
    {
     "name": "stdout",
     "output_type": "stream",
     "text": [
      "Frequency: 0.5kHz, CF target: 1000, Vector Strength: 0.11255086711376694\n"
     ]
    },
    {
     "name": "stderr",
     "output_type": "stream",
     "text": []
    },
    {
     "name": "stdout",
     "output_type": "stream",
     "text": [
      "Frequency: 0.5kHz, CF target: 1100, Vector Strength: 0.0988492876154499\n"
     ]
    },
    {
     "name": "stderr",
     "output_type": "stream",
     "text": []
    },
    {
     "name": "stdout",
     "output_type": "stream",
     "text": [
      "Frequency: 0.5kHz, CF target: 1200, Vector Strength: 0.18228370623254422\n"
     ]
    },
    {
     "name": "stderr",
     "output_type": "stream",
     "text": []
    },
    {
     "name": "stdout",
     "output_type": "stream",
     "text": [
      "Frequency: 0.5kHz, CF target: 1300, Vector Strength: 0.10731697254872112\n"
     ]
    },
    {
     "name": "stderr",
     "output_type": "stream",
     "text": []
    },
    {
     "name": "stdout",
     "output_type": "stream",
     "text": [
      "Frequency: 0.5kHz, CF target: 1400, Vector Strength: 0.04672248588655196\n"
     ]
    },
    {
     "name": "stderr",
     "output_type": "stream",
     "text": [
      "100%|██████████| 15/15 [00:29<00:00,  2.00s/it]\n",
      " 33%|███▎      | 5/15 [04:51<09:43, 58.33s/it]"
     ]
    },
    {
     "name": "stdout",
     "output_type": "stream",
     "text": [
      "Frequency: 0.5kHz, CF target: 1500, Vector Strength: 0.08798219487624692\n"
     ]
    },
    {
     "name": "stderr",
     "output_type": "stream",
     "text": []
    },
    {
     "name": "stdout",
     "output_type": "stream",
     "text": [
      "Frequency: 0.6kHz, CF target: 100, Vector Strength: 0.19218446129255717\n"
     ]
    },
    {
     "name": "stderr",
     "output_type": "stream",
     "text": []
    },
    {
     "name": "stdout",
     "output_type": "stream",
     "text": [
      "Frequency: 0.6kHz, CF target: 200, Vector Strength: 0.200629208324903\n"
     ]
    },
    {
     "name": "stderr",
     "output_type": "stream",
     "text": []
    },
    {
     "name": "stdout",
     "output_type": "stream",
     "text": [
      "Frequency: 0.6kHz, CF target: 300, Vector Strength: 0.42585198867720464\n"
     ]
    },
    {
     "name": "stderr",
     "output_type": "stream",
     "text": []
    },
    {
     "name": "stdout",
     "output_type": "stream",
     "text": [
      "Frequency: 0.6kHz, CF target: 400, Vector Strength: 0.7237180027958175\n"
     ]
    },
    {
     "name": "stderr",
     "output_type": "stream",
     "text": []
    },
    {
     "name": "stdout",
     "output_type": "stream",
     "text": [
      "Frequency: 0.6kHz, CF target: 500, Vector Strength: 0.7836340410530351\n"
     ]
    },
    {
     "name": "stderr",
     "output_type": "stream",
     "text": []
    },
    {
     "name": "stdout",
     "output_type": "stream",
     "text": [
      "Frequency: 0.6kHz, CF target: 600, Vector Strength: 0.6919916343057534\n"
     ]
    },
    {
     "name": "stderr",
     "output_type": "stream",
     "text": []
    },
    {
     "name": "stdout",
     "output_type": "stream",
     "text": [
      "Frequency: 0.6kHz, CF target: 700, Vector Strength: 0.7251905342781927\n"
     ]
    },
    {
     "name": "stderr",
     "output_type": "stream",
     "text": []
    },
    {
     "name": "stdout",
     "output_type": "stream",
     "text": [
      "Frequency: 0.6kHz, CF target: 800, Vector Strength: 0.7358411399089041\n"
     ]
    },
    {
     "name": "stderr",
     "output_type": "stream",
     "text": []
    },
    {
     "name": "stdout",
     "output_type": "stream",
     "text": [
      "Frequency: 0.6kHz, CF target: 900, Vector Strength: 0.41802823944897755\n"
     ]
    },
    {
     "name": "stderr",
     "output_type": "stream",
     "text": []
    },
    {
     "name": "stdout",
     "output_type": "stream",
     "text": [
      "Frequency: 0.6kHz, CF target: 1000, Vector Strength: 0.18601179014210978\n"
     ]
    },
    {
     "name": "stderr",
     "output_type": "stream",
     "text": []
    },
    {
     "name": "stdout",
     "output_type": "stream",
     "text": [
      "Frequency: 0.6kHz, CF target: 1100, Vector Strength: 0.1431984906473827\n"
     ]
    },
    {
     "name": "stderr",
     "output_type": "stream",
     "text": []
    },
    {
     "name": "stdout",
     "output_type": "stream",
     "text": [
      "Frequency: 0.6kHz, CF target: 1200, Vector Strength: 0.05423113598267382\n"
     ]
    },
    {
     "name": "stderr",
     "output_type": "stream",
     "text": []
    },
    {
     "name": "stdout",
     "output_type": "stream",
     "text": [
      "Frequency: 0.6kHz, CF target: 1300, Vector Strength: 0.07031788575203968\n"
     ]
    },
    {
     "name": "stderr",
     "output_type": "stream",
     "text": []
    },
    {
     "name": "stdout",
     "output_type": "stream",
     "text": [
      "Frequency: 0.6kHz, CF target: 1400, Vector Strength: 0.24856582494285953\n"
     ]
    },
    {
     "name": "stderr",
     "output_type": "stream",
     "text": [
      "100%|██████████| 15/15 [00:26<00:00,  1.74s/it]\n",
      " 40%|████      | 6/15 [05:47<08:36, 57.43s/it]"
     ]
    },
    {
     "name": "stdout",
     "output_type": "stream",
     "text": [
      "Frequency: 0.6kHz, CF target: 1500, Vector Strength: 0.06315069939106623\n"
     ]
    },
    {
     "name": "stderr",
     "output_type": "stream",
     "text": []
    },
    {
     "name": "stdout",
     "output_type": "stream",
     "text": [
      "Frequency: 0.7kHz, CF target: 100, Vector Strength: 0.2869797474753652\n"
     ]
    },
    {
     "name": "stderr",
     "output_type": "stream",
     "text": []
    },
    {
     "name": "stdout",
     "output_type": "stream",
     "text": [
      "Frequency: 0.7kHz, CF target: 200, Vector Strength: 0.08948697001480245\n"
     ]
    },
    {
     "name": "stderr",
     "output_type": "stream",
     "text": []
    },
    {
     "name": "stdout",
     "output_type": "stream",
     "text": [
      "Frequency: 0.7kHz, CF target: 300, Vector Strength: 0.15441659887104217\n"
     ]
    },
    {
     "name": "stderr",
     "output_type": "stream",
     "text": []
    },
    {
     "name": "stdout",
     "output_type": "stream",
     "text": [
      "Frequency: 0.7kHz, CF target: 400, Vector Strength: 0.4480757477945572\n"
     ]
    },
    {
     "name": "stderr",
     "output_type": "stream",
     "text": []
    },
    {
     "name": "stdout",
     "output_type": "stream",
     "text": [
      "Frequency: 0.7kHz, CF target: 500, Vector Strength: 0.7479506403385777\n"
     ]
    },
    {
     "name": "stderr",
     "output_type": "stream",
     "text": []
    },
    {
     "name": "stdout",
     "output_type": "stream",
     "text": [
      "Frequency: 0.7kHz, CF target: 600, Vector Strength: 0.685624433251428\n"
     ]
    },
    {
     "name": "stderr",
     "output_type": "stream",
     "text": []
    },
    {
     "name": "stdout",
     "output_type": "stream",
     "text": [
      "Frequency: 0.7kHz, CF target: 700, Vector Strength: 0.7208975214674764\n"
     ]
    },
    {
     "name": "stderr",
     "output_type": "stream",
     "text": []
    },
    {
     "name": "stdout",
     "output_type": "stream",
     "text": [
      "Frequency: 0.7kHz, CF target: 800, Vector Strength: 0.7168340490521732\n"
     ]
    },
    {
     "name": "stderr",
     "output_type": "stream",
     "text": []
    },
    {
     "name": "stdout",
     "output_type": "stream",
     "text": [
      "Frequency: 0.7kHz, CF target: 900, Vector Strength: 0.7251560974698824\n"
     ]
    },
    {
     "name": "stderr",
     "output_type": "stream",
     "text": []
    },
    {
     "name": "stdout",
     "output_type": "stream",
     "text": [
      "Frequency: 0.7kHz, CF target: 1000, Vector Strength: 0.5203319633657544\n"
     ]
    },
    {
     "name": "stderr",
     "output_type": "stream",
     "text": []
    },
    {
     "name": "stdout",
     "output_type": "stream",
     "text": [
      "Frequency: 0.7kHz, CF target: 1100, Vector Strength: 0.3474651552608483\n"
     ]
    },
    {
     "name": "stderr",
     "output_type": "stream",
     "text": []
    },
    {
     "name": "stdout",
     "output_type": "stream",
     "text": [
      "Frequency: 0.7kHz, CF target: 1200, Vector Strength: 0.23548018762986922\n"
     ]
    },
    {
     "name": "stderr",
     "output_type": "stream",
     "text": []
    },
    {
     "name": "stdout",
     "output_type": "stream",
     "text": [
      "Frequency: 0.7kHz, CF target: 1300, Vector Strength: 0.2911994415577622\n"
     ]
    },
    {
     "name": "stderr",
     "output_type": "stream",
     "text": []
    },
    {
     "name": "stdout",
     "output_type": "stream",
     "text": [
      "Frequency: 0.7kHz, CF target: 1400, Vector Strength: 0.03833579973940696\n"
     ]
    },
    {
     "name": "stderr",
     "output_type": "stream",
     "text": [
      "100%|██████████| 15/15 [00:37<00:00,  2.47s/it]\n",
      " 47%|████▋     | 7/15 [06:58<08:14, 61.86s/it]"
     ]
    },
    {
     "name": "stdout",
     "output_type": "stream",
     "text": [
      "Frequency: 0.7kHz, CF target: 1500, Vector Strength: 0.1333609567112331\n"
     ]
    },
    {
     "name": "stderr",
     "output_type": "stream",
     "text": []
    },
    {
     "name": "stdout",
     "output_type": "stream",
     "text": [
      "Frequency: 0.8kHz, CF target: 100, Vector Strength: 0.04543412455152315\n"
     ]
    },
    {
     "name": "stderr",
     "output_type": "stream",
     "text": []
    },
    {
     "name": "stdout",
     "output_type": "stream",
     "text": [
      "Frequency: 0.8kHz, CF target: 200, Vector Strength: 0.10209844993418558\n"
     ]
    },
    {
     "name": "stderr",
     "output_type": "stream",
     "text": []
    },
    {
     "name": "stdout",
     "output_type": "stream",
     "text": [
      "Frequency: 0.8kHz, CF target: 300, Vector Strength: 0.13517369680111233\n"
     ]
    },
    {
     "name": "stderr",
     "output_type": "stream",
     "text": []
    },
    {
     "name": "stdout",
     "output_type": "stream",
     "text": [
      "Frequency: 0.8kHz, CF target: 400, Vector Strength: 0.16558971211155551\n"
     ]
    },
    {
     "name": "stderr",
     "output_type": "stream",
     "text": []
    },
    {
     "name": "stdout",
     "output_type": "stream",
     "text": [
      "Frequency: 0.8kHz, CF target: 500, Vector Strength: 0.4843596648979296\n"
     ]
    },
    {
     "name": "stderr",
     "output_type": "stream",
     "text": []
    },
    {
     "name": "stdout",
     "output_type": "stream",
     "text": [
      "Frequency: 0.8kHz, CF target: 600, Vector Strength: 0.6802787954722916\n"
     ]
    },
    {
     "name": "stderr",
     "output_type": "stream",
     "text": []
    },
    {
     "name": "stdout",
     "output_type": "stream",
     "text": [
      "Frequency: 0.8kHz, CF target: 700, Vector Strength: 0.7548133916213987\n"
     ]
    },
    {
     "name": "stderr",
     "output_type": "stream",
     "text": []
    },
    {
     "name": "stdout",
     "output_type": "stream",
     "text": [
      "Frequency: 0.8kHz, CF target: 800, Vector Strength: 0.7105087260577891\n"
     ]
    },
    {
     "name": "stderr",
     "output_type": "stream",
     "text": []
    },
    {
     "name": "stdout",
     "output_type": "stream",
     "text": [
      "Frequency: 0.8kHz, CF target: 900, Vector Strength: 0.756244068089818\n"
     ]
    },
    {
     "name": "stderr",
     "output_type": "stream",
     "text": []
    },
    {
     "name": "stdout",
     "output_type": "stream",
     "text": [
      "Frequency: 0.8kHz, CF target: 1000, Vector Strength: 0.6645330406916312\n"
     ]
    },
    {
     "name": "stderr",
     "output_type": "stream",
     "text": []
    },
    {
     "name": "stdout",
     "output_type": "stream",
     "text": [
      "Frequency: 0.8kHz, CF target: 1100, Vector Strength: 0.672127247093435\n"
     ]
    },
    {
     "name": "stderr",
     "output_type": "stream",
     "text": []
    },
    {
     "name": "stdout",
     "output_type": "stream",
     "text": [
      "Frequency: 0.8kHz, CF target: 1200, Vector Strength: 0.3661364824842005\n"
     ]
    },
    {
     "name": "stderr",
     "output_type": "stream",
     "text": []
    },
    {
     "name": "stdout",
     "output_type": "stream",
     "text": [
      "Frequency: 0.8kHz, CF target: 1300, Vector Strength: 0.33176178902921516\n"
     ]
    },
    {
     "name": "stderr",
     "output_type": "stream",
     "text": []
    },
    {
     "name": "stdout",
     "output_type": "stream",
     "text": [
      "Frequency: 0.8kHz, CF target: 1400, Vector Strength: 0.23043766828869355\n"
     ]
    },
    {
     "name": "stderr",
     "output_type": "stream",
     "text": [
      "100%|██████████| 15/15 [00:27<00:00,  1.83s/it]\n",
      " 53%|█████▎    | 8/15 [07:49<06:48, 58.40s/it]"
     ]
    },
    {
     "name": "stdout",
     "output_type": "stream",
     "text": [
      "Frequency: 0.8kHz, CF target: 1500, Vector Strength: 0.028688224161912055\n"
     ]
    },
    {
     "name": "stderr",
     "output_type": "stream",
     "text": []
    },
    {
     "name": "stdout",
     "output_type": "stream",
     "text": [
      "Frequency: 0.9kHz, CF target: 100, Vector Strength: 0.27108852726080757\n"
     ]
    },
    {
     "name": "stderr",
     "output_type": "stream",
     "text": []
    },
    {
     "name": "stdout",
     "output_type": "stream",
     "text": [
      "Frequency: 0.9kHz, CF target: 200, Vector Strength: 0.07972821202282848\n"
     ]
    },
    {
     "name": "stderr",
     "output_type": "stream",
     "text": []
    },
    {
     "name": "stdout",
     "output_type": "stream",
     "text": [
      "Frequency: 0.9kHz, CF target: 300, Vector Strength: 0.09727533094178892\n"
     ]
    },
    {
     "name": "stderr",
     "output_type": "stream",
     "text": []
    },
    {
     "name": "stdout",
     "output_type": "stream",
     "text": [
      "Frequency: 0.9kHz, CF target: 400, Vector Strength: 0.15789079873970052\n"
     ]
    },
    {
     "name": "stderr",
     "output_type": "stream",
     "text": []
    },
    {
     "name": "stdout",
     "output_type": "stream",
     "text": [
      "Frequency: 0.9kHz, CF target: 500, Vector Strength: 0.4274844193979264\n"
     ]
    },
    {
     "name": "stderr",
     "output_type": "stream",
     "text": []
    },
    {
     "name": "stdout",
     "output_type": "stream",
     "text": [
      "Frequency: 0.9kHz, CF target: 600, Vector Strength: 0.38902806934040834\n"
     ]
    },
    {
     "name": "stderr",
     "output_type": "stream",
     "text": []
    },
    {
     "name": "stdout",
     "output_type": "stream",
     "text": [
      "Frequency: 0.9kHz, CF target: 700, Vector Strength: 0.736178765618708\n"
     ]
    },
    {
     "name": "stderr",
     "output_type": "stream",
     "text": []
    },
    {
     "name": "stdout",
     "output_type": "stream",
     "text": [
      "Frequency: 0.9kHz, CF target: 800, Vector Strength: 0.7583088174650668\n"
     ]
    },
    {
     "name": "stderr",
     "output_type": "stream",
     "text": []
    },
    {
     "name": "stdout",
     "output_type": "stream",
     "text": [
      "Frequency: 0.9kHz, CF target: 900, Vector Strength: 0.6449205177499576\n"
     ]
    },
    {
     "name": "stderr",
     "output_type": "stream",
     "text": []
    },
    {
     "name": "stdout",
     "output_type": "stream",
     "text": [
      "Frequency: 0.9kHz, CF target: 1000, Vector Strength: 0.6912457034376096\n"
     ]
    },
    {
     "name": "stderr",
     "output_type": "stream",
     "text": []
    },
    {
     "name": "stdout",
     "output_type": "stream",
     "text": [
      "Frequency: 0.9kHz, CF target: 1100, Vector Strength: 0.7106551452884904\n"
     ]
    },
    {
     "name": "stderr",
     "output_type": "stream",
     "text": []
    },
    {
     "name": "stdout",
     "output_type": "stream",
     "text": [
      "Frequency: 0.9kHz, CF target: 1200, Vector Strength: 0.7130721918704619\n"
     ]
    },
    {
     "name": "stderr",
     "output_type": "stream",
     "text": []
    },
    {
     "name": "stdout",
     "output_type": "stream",
     "text": [
      "Frequency: 0.9kHz, CF target: 1300, Vector Strength: 0.5748779945141285\n"
     ]
    },
    {
     "name": "stderr",
     "output_type": "stream",
     "text": []
    },
    {
     "name": "stdout",
     "output_type": "stream",
     "text": [
      "Frequency: 0.9kHz, CF target: 1400, Vector Strength: 0.43101144768285027\n"
     ]
    },
    {
     "name": "stderr",
     "output_type": "stream",
     "text": [
      "100%|██████████| 15/15 [00:26<00:00,  1.78s/it]\n",
      " 60%|██████    | 9/15 [08:38<05:33, 55.58s/it]"
     ]
    },
    {
     "name": "stdout",
     "output_type": "stream",
     "text": [
      "Frequency: 0.9kHz, CF target: 1500, Vector Strength: 0.2890176330230699\n"
     ]
    },
    {
     "name": "stderr",
     "output_type": "stream",
     "text": []
    },
    {
     "name": "stdout",
     "output_type": "stream",
     "text": [
      "Frequency: 1.0kHz, CF target: 100, Vector Strength: 0.13718638727890925\n"
     ]
    },
    {
     "name": "stderr",
     "output_type": "stream",
     "text": []
    },
    {
     "name": "stdout",
     "output_type": "stream",
     "text": [
      "Frequency: 1.0kHz, CF target: 200, Vector Strength: 0.10437509094416422\n"
     ]
    },
    {
     "name": "stderr",
     "output_type": "stream",
     "text": []
    },
    {
     "name": "stdout",
     "output_type": "stream",
     "text": [
      "Frequency: 1.0kHz, CF target: 300, Vector Strength: 0.09455329462118758\n"
     ]
    },
    {
     "name": "stderr",
     "output_type": "stream",
     "text": []
    },
    {
     "name": "stdout",
     "output_type": "stream",
     "text": [
      "Frequency: 1.0kHz, CF target: 400, Vector Strength: 0.2645874033092433\n"
     ]
    },
    {
     "name": "stderr",
     "output_type": "stream",
     "text": []
    },
    {
     "name": "stdout",
     "output_type": "stream",
     "text": [
      "Frequency: 1.0kHz, CF target: 500, Vector Strength: 0.2579962893753473\n"
     ]
    },
    {
     "name": "stderr",
     "output_type": "stream",
     "text": []
    },
    {
     "name": "stdout",
     "output_type": "stream",
     "text": [
      "Frequency: 1.0kHz, CF target: 600, Vector Strength: 0.2333230329920525\n"
     ]
    },
    {
     "name": "stderr",
     "output_type": "stream",
     "text": []
    },
    {
     "name": "stdout",
     "output_type": "stream",
     "text": [
      "Frequency: 1.0kHz, CF target: 700, Vector Strength: 0.4311808219324585\n"
     ]
    },
    {
     "name": "stderr",
     "output_type": "stream",
     "text": []
    },
    {
     "name": "stdout",
     "output_type": "stream",
     "text": [
      "Frequency: 1.0kHz, CF target: 800, Vector Strength: 0.6402912558208387\n"
     ]
    },
    {
     "name": "stderr",
     "output_type": "stream",
     "text": []
    },
    {
     "name": "stdout",
     "output_type": "stream",
     "text": [
      "Frequency: 1.0kHz, CF target: 900, Vector Strength: 0.7481531506922604\n"
     ]
    },
    {
     "name": "stderr",
     "output_type": "stream",
     "text": []
    },
    {
     "name": "stdout",
     "output_type": "stream",
     "text": [
      "Frequency: 1.0kHz, CF target: 1000, Vector Strength: 0.6585382364356567\n"
     ]
    },
    {
     "name": "stderr",
     "output_type": "stream",
     "text": []
    },
    {
     "name": "stdout",
     "output_type": "stream",
     "text": [
      "Frequency: 1.0kHz, CF target: 1100, Vector Strength: 0.7051715538692301\n"
     ]
    },
    {
     "name": "stderr",
     "output_type": "stream",
     "text": []
    },
    {
     "name": "stdout",
     "output_type": "stream",
     "text": [
      "Frequency: 1.0kHz, CF target: 1200, Vector Strength: 0.7336847625189147\n"
     ]
    },
    {
     "name": "stderr",
     "output_type": "stream",
     "text": []
    },
    {
     "name": "stdout",
     "output_type": "stream",
     "text": [
      "Frequency: 1.0kHz, CF target: 1300, Vector Strength: 0.778327506249525\n"
     ]
    },
    {
     "name": "stderr",
     "output_type": "stream",
     "text": []
    },
    {
     "name": "stdout",
     "output_type": "stream",
     "text": [
      "Frequency: 1.0kHz, CF target: 1400, Vector Strength: 0.6210825978039975\n"
     ]
    },
    {
     "name": "stderr",
     "output_type": "stream",
     "text": [
      "100%|██████████| 15/15 [00:27<00:00,  1.82s/it]\n",
      " 67%|██████▋   | 10/15 [09:26<04:26, 53.34s/it]"
     ]
    },
    {
     "name": "stdout",
     "output_type": "stream",
     "text": [
      "Frequency: 1.0kHz, CF target: 1500, Vector Strength: 0.4046806698149799\n"
     ]
    },
    {
     "name": "stderr",
     "output_type": "stream",
     "text": []
    },
    {
     "name": "stdout",
     "output_type": "stream",
     "text": [
      "Frequency: 1.1kHz, CF target: 100, Vector Strength: 0.019237703368663643\n"
     ]
    },
    {
     "name": "stderr",
     "output_type": "stream",
     "text": []
    },
    {
     "name": "stdout",
     "output_type": "stream",
     "text": [
      "Frequency: 1.1kHz, CF target: 200, Vector Strength: 0.04861290997591121\n"
     ]
    },
    {
     "name": "stderr",
     "output_type": "stream",
     "text": []
    },
    {
     "name": "stdout",
     "output_type": "stream",
     "text": [
      "Frequency: 1.1kHz, CF target: 300, Vector Strength: 0.0645018441451727\n"
     ]
    },
    {
     "name": "stderr",
     "output_type": "stream",
     "text": []
    },
    {
     "name": "stdout",
     "output_type": "stream",
     "text": [
      "Frequency: 1.1kHz, CF target: 400, Vector Strength: 0.11810303244441185\n"
     ]
    },
    {
     "name": "stderr",
     "output_type": "stream",
     "text": []
    },
    {
     "name": "stdout",
     "output_type": "stream",
     "text": [
      "Frequency: 1.1kHz, CF target: 500, Vector Strength: 0.22282608296059334\n"
     ]
    },
    {
     "name": "stderr",
     "output_type": "stream",
     "text": []
    },
    {
     "name": "stdout",
     "output_type": "stream",
     "text": [
      "Frequency: 1.1kHz, CF target: 600, Vector Strength: 0.10917471147813569\n"
     ]
    },
    {
     "name": "stderr",
     "output_type": "stream",
     "text": []
    },
    {
     "name": "stdout",
     "output_type": "stream",
     "text": [
      "Frequency: 1.1kHz, CF target: 700, Vector Strength: 0.20584980503487466\n"
     ]
    },
    {
     "name": "stderr",
     "output_type": "stream",
     "text": []
    },
    {
     "name": "stdout",
     "output_type": "stream",
     "text": [
      "Frequency: 1.1kHz, CF target: 800, Vector Strength: 0.4705761641025297\n"
     ]
    },
    {
     "name": "stderr",
     "output_type": "stream",
     "text": []
    },
    {
     "name": "stdout",
     "output_type": "stream",
     "text": [
      "Frequency: 1.1kHz, CF target: 900, Vector Strength: 0.6716620335569232\n"
     ]
    },
    {
     "name": "stderr",
     "output_type": "stream",
     "text": []
    },
    {
     "name": "stdout",
     "output_type": "stream",
     "text": [
      "Frequency: 1.1kHz, CF target: 1000, Vector Strength: 0.6966480953599263\n"
     ]
    },
    {
     "name": "stderr",
     "output_type": "stream",
     "text": []
    },
    {
     "name": "stdout",
     "output_type": "stream",
     "text": [
      "Frequency: 1.1kHz, CF target: 1100, Vector Strength: 0.6478360847377983\n"
     ]
    },
    {
     "name": "stderr",
     "output_type": "stream",
     "text": []
    },
    {
     "name": "stdout",
     "output_type": "stream",
     "text": [
      "Frequency: 1.1kHz, CF target: 1200, Vector Strength: 0.6780589573337784\n"
     ]
    },
    {
     "name": "stderr",
     "output_type": "stream",
     "text": []
    },
    {
     "name": "stdout",
     "output_type": "stream",
     "text": [
      "Frequency: 1.1kHz, CF target: 1300, Vector Strength: 0.7035232310607601\n"
     ]
    },
    {
     "name": "stderr",
     "output_type": "stream",
     "text": []
    },
    {
     "name": "stdout",
     "output_type": "stream",
     "text": [
      "Frequency: 1.1kHz, CF target: 1400, Vector Strength: 0.7525274925034838\n"
     ]
    },
    {
     "name": "stderr",
     "output_type": "stream",
     "text": [
      "100%|██████████| 15/15 [00:30<00:00,  2.04s/it]\n",
      " 73%|███████▎  | 11/15 [10:25<03:40, 55.05s/it]"
     ]
    },
    {
     "name": "stdout",
     "output_type": "stream",
     "text": [
      "Frequency: 1.1kHz, CF target: 1500, Vector Strength: 0.6970525916327862\n"
     ]
    },
    {
     "name": "stderr",
     "output_type": "stream",
     "text": []
    },
    {
     "name": "stdout",
     "output_type": "stream",
     "text": [
      "Frequency: 1.2kHz, CF target: 100, Vector Strength: 0.13819911035366286\n"
     ]
    },
    {
     "name": "stderr",
     "output_type": "stream",
     "text": []
    },
    {
     "name": "stdout",
     "output_type": "stream",
     "text": [
      "Frequency: 1.2kHz, CF target: 200, Vector Strength: 0.16353203465788516\n"
     ]
    },
    {
     "name": "stderr",
     "output_type": "stream",
     "text": []
    },
    {
     "name": "stdout",
     "output_type": "stream",
     "text": [
      "Frequency: 1.2kHz, CF target: 300, Vector Strength: 0.26060476645416064\n"
     ]
    },
    {
     "name": "stderr",
     "output_type": "stream",
     "text": []
    },
    {
     "name": "stdout",
     "output_type": "stream",
     "text": [
      "Frequency: 1.2kHz, CF target: 400, Vector Strength: 0.054556657385787535\n"
     ]
    },
    {
     "name": "stderr",
     "output_type": "stream",
     "text": []
    },
    {
     "name": "stdout",
     "output_type": "stream",
     "text": [
      "Frequency: 1.2kHz, CF target: 500, Vector Strength: 0.21370283576434482\n"
     ]
    },
    {
     "name": "stderr",
     "output_type": "stream",
     "text": []
    },
    {
     "name": "stdout",
     "output_type": "stream",
     "text": [
      "Frequency: 1.2kHz, CF target: 600, Vector Strength: 0.24214326942341138\n"
     ]
    },
    {
     "name": "stderr",
     "output_type": "stream",
     "text": []
    },
    {
     "name": "stdout",
     "output_type": "stream",
     "text": [
      "Frequency: 1.2kHz, CF target: 700, Vector Strength: 0.2814478763904055\n"
     ]
    },
    {
     "name": "stderr",
     "output_type": "stream",
     "text": []
    },
    {
     "name": "stdout",
     "output_type": "stream",
     "text": [
      "Frequency: 1.2kHz, CF target: 800, Vector Strength: 0.1576762694510474\n"
     ]
    },
    {
     "name": "stderr",
     "output_type": "stream",
     "text": []
    },
    {
     "name": "stdout",
     "output_type": "stream",
     "text": [
      "Frequency: 1.2kHz, CF target: 900, Vector Strength: 0.3373085827386925\n"
     ]
    },
    {
     "name": "stderr",
     "output_type": "stream",
     "text": []
    },
    {
     "name": "stdout",
     "output_type": "stream",
     "text": [
      "Frequency: 1.2kHz, CF target: 1000, Vector Strength: 0.5629094363015082\n"
     ]
    },
    {
     "name": "stderr",
     "output_type": "stream",
     "text": []
    },
    {
     "name": "stdout",
     "output_type": "stream",
     "text": [
      "Frequency: 1.2kHz, CF target: 1100, Vector Strength: 0.6395913175692103\n"
     ]
    },
    {
     "name": "stderr",
     "output_type": "stream",
     "text": []
    },
    {
     "name": "stdout",
     "output_type": "stream",
     "text": [
      "Frequency: 1.2kHz, CF target: 1200, Vector Strength: 0.635274439703853\n"
     ]
    },
    {
     "name": "stderr",
     "output_type": "stream",
     "text": []
    },
    {
     "name": "stdout",
     "output_type": "stream",
     "text": [
      "Frequency: 1.2kHz, CF target: 1300, Vector Strength: 0.6611363153263486\n"
     ]
    },
    {
     "name": "stderr",
     "output_type": "stream",
     "text": []
    },
    {
     "name": "stdout",
     "output_type": "stream",
     "text": [
      "Frequency: 1.2kHz, CF target: 1400, Vector Strength: 0.6951808888801817\n"
     ]
    },
    {
     "name": "stderr",
     "output_type": "stream",
     "text": [
      "100%|██████████| 15/15 [00:35<00:00,  2.37s/it]\n",
      " 80%|████████  | 12/15 [11:19<02:43, 54.65s/it]"
     ]
    },
    {
     "name": "stdout",
     "output_type": "stream",
     "text": [
      "Frequency: 1.2kHz, CF target: 1500, Vector Strength: 0.6795512332417634\n"
     ]
    },
    {
     "name": "stderr",
     "output_type": "stream",
     "text": []
    },
    {
     "name": "stdout",
     "output_type": "stream",
     "text": [
      "Frequency: 1.3kHz, CF target: 100, Vector Strength: 0.1156530298213639\n"
     ]
    },
    {
     "name": "stderr",
     "output_type": "stream",
     "text": []
    },
    {
     "name": "stdout",
     "output_type": "stream",
     "text": [
      "Frequency: 1.3kHz, CF target: 200, Vector Strength: 0.15351279349589345\n"
     ]
    },
    {
     "name": "stderr",
     "output_type": "stream",
     "text": []
    },
    {
     "name": "stdout",
     "output_type": "stream",
     "text": [
      "Frequency: 1.3kHz, CF target: 300, Vector Strength: 0.11142779155969873\n"
     ]
    },
    {
     "name": "stderr",
     "output_type": "stream",
     "text": []
    },
    {
     "name": "stdout",
     "output_type": "stream",
     "text": [
      "Frequency: 1.3kHz, CF target: 400, Vector Strength: 0.2043970003553967\n"
     ]
    },
    {
     "name": "stderr",
     "output_type": "stream",
     "text": []
    },
    {
     "name": "stdout",
     "output_type": "stream",
     "text": [
      "Frequency: 1.3kHz, CF target: 500, Vector Strength: 0.11101208853612876\n"
     ]
    },
    {
     "name": "stderr",
     "output_type": "stream",
     "text": []
    },
    {
     "name": "stdout",
     "output_type": "stream",
     "text": [
      "Frequency: 1.3kHz, CF target: 600, Vector Strength: 0.11844998388723581\n"
     ]
    },
    {
     "name": "stderr",
     "output_type": "stream",
     "text": []
    },
    {
     "name": "stdout",
     "output_type": "stream",
     "text": [
      "Frequency: 1.3kHz, CF target: 700, Vector Strength: 0.25956367167804434\n"
     ]
    },
    {
     "name": "stderr",
     "output_type": "stream",
     "text": []
    },
    {
     "name": "stdout",
     "output_type": "stream",
     "text": [
      "Frequency: 1.3kHz, CF target: 800, Vector Strength: 0.11691491487509134\n"
     ]
    },
    {
     "name": "stderr",
     "output_type": "stream",
     "text": []
    },
    {
     "name": "stdout",
     "output_type": "stream",
     "text": [
      "Frequency: 1.3kHz, CF target: 900, Vector Strength: 0.35883173787271827\n"
     ]
    },
    {
     "name": "stderr",
     "output_type": "stream",
     "text": []
    },
    {
     "name": "stdout",
     "output_type": "stream",
     "text": [
      "Frequency: 1.3kHz, CF target: 1000, Vector Strength: 0.1902738765476149\n"
     ]
    },
    {
     "name": "stderr",
     "output_type": "stream",
     "text": []
    },
    {
     "name": "stdout",
     "output_type": "stream",
     "text": [
      "Frequency: 1.3kHz, CF target: 1100, Vector Strength: 0.618893624533395\n"
     ]
    },
    {
     "name": "stderr",
     "output_type": "stream",
     "text": []
    },
    {
     "name": "stdout",
     "output_type": "stream",
     "text": [
      "Frequency: 1.3kHz, CF target: 1200, Vector Strength: 0.7018248869971885\n"
     ]
    },
    {
     "name": "stderr",
     "output_type": "stream",
     "text": []
    },
    {
     "name": "stdout",
     "output_type": "stream",
     "text": [
      "Frequency: 1.3kHz, CF target: 1300, Vector Strength: 0.7041958591435952\n"
     ]
    },
    {
     "name": "stderr",
     "output_type": "stream",
     "text": []
    },
    {
     "name": "stdout",
     "output_type": "stream",
     "text": [
      "Frequency: 1.3kHz, CF target: 1400, Vector Strength: 0.6425563640817452\n"
     ]
    },
    {
     "name": "stderr",
     "output_type": "stream",
     "text": [
      "100%|██████████| 15/15 [00:36<00:00,  2.41s/it]\n",
      " 87%|████████▋ | 13/15 [12:21<01:53, 56.74s/it]"
     ]
    },
    {
     "name": "stdout",
     "output_type": "stream",
     "text": [
      "Frequency: 1.3kHz, CF target: 1500, Vector Strength: 0.7063794508494244\n"
     ]
    },
    {
     "name": "stderr",
     "output_type": "stream",
     "text": []
    },
    {
     "name": "stdout",
     "output_type": "stream",
     "text": [
      "Frequency: 1.4kHz, CF target: 100, Vector Strength: 0.053565133367507504\n"
     ]
    },
    {
     "name": "stderr",
     "output_type": "stream",
     "text": []
    },
    {
     "name": "stdout",
     "output_type": "stream",
     "text": [
      "Frequency: 1.4kHz, CF target: 200, Vector Strength: 0.20162773741183818\n"
     ]
    },
    {
     "name": "stderr",
     "output_type": "stream",
     "text": []
    },
    {
     "name": "stdout",
     "output_type": "stream",
     "text": [
      "Frequency: 1.4kHz, CF target: 300, Vector Strength: 0.16937955814726288\n"
     ]
    },
    {
     "name": "stderr",
     "output_type": "stream",
     "text": []
    },
    {
     "name": "stdout",
     "output_type": "stream",
     "text": [
      "Frequency: 1.4kHz, CF target: 400, Vector Strength: 0.1406894836258604\n"
     ]
    },
    {
     "name": "stderr",
     "output_type": "stream",
     "text": []
    },
    {
     "name": "stdout",
     "output_type": "stream",
     "text": [
      "Frequency: 1.4kHz, CF target: 500, Vector Strength: 0.11240810112326757\n"
     ]
    },
    {
     "name": "stderr",
     "output_type": "stream",
     "text": []
    },
    {
     "name": "stdout",
     "output_type": "stream",
     "text": [
      "Frequency: 1.4kHz, CF target: 600, Vector Strength: 0.1684262153112121\n"
     ]
    },
    {
     "name": "stderr",
     "output_type": "stream",
     "text": []
    },
    {
     "name": "stdout",
     "output_type": "stream",
     "text": [
      "Frequency: 1.4kHz, CF target: 700, Vector Strength: 0.16293528164479612\n"
     ]
    },
    {
     "name": "stderr",
     "output_type": "stream",
     "text": []
    },
    {
     "name": "stdout",
     "output_type": "stream",
     "text": [
      "Frequency: 1.4kHz, CF target: 800, Vector Strength: 0.1293310321493882\n"
     ]
    },
    {
     "name": "stderr",
     "output_type": "stream",
     "text": []
    },
    {
     "name": "stdout",
     "output_type": "stream",
     "text": [
      "Frequency: 1.4kHz, CF target: 900, Vector Strength: 0.06387278591284196\n"
     ]
    },
    {
     "name": "stderr",
     "output_type": "stream",
     "text": []
    },
    {
     "name": "stdout",
     "output_type": "stream",
     "text": [
      "Frequency: 1.4kHz, CF target: 1000, Vector Strength: 0.28043705655494106\n"
     ]
    },
    {
     "name": "stderr",
     "output_type": "stream",
     "text": []
    },
    {
     "name": "stdout",
     "output_type": "stream",
     "text": [
      "Frequency: 1.4kHz, CF target: 1100, Vector Strength: 0.4234748068721486\n"
     ]
    },
    {
     "name": "stderr",
     "output_type": "stream",
     "text": []
    },
    {
     "name": "stdout",
     "output_type": "stream",
     "text": [
      "Frequency: 1.4kHz, CF target: 1200, Vector Strength: 0.6392223686120524\n"
     ]
    },
    {
     "name": "stderr",
     "output_type": "stream",
     "text": []
    },
    {
     "name": "stdout",
     "output_type": "stream",
     "text": [
      "Frequency: 1.4kHz, CF target: 1300, Vector Strength: 0.6989331969998419\n"
     ]
    },
    {
     "name": "stderr",
     "output_type": "stream",
     "text": []
    },
    {
     "name": "stdout",
     "output_type": "stream",
     "text": [
      "Frequency: 1.4kHz, CF target: 1400, Vector Strength: 0.6769343336148168\n"
     ]
    },
    {
     "name": "stderr",
     "output_type": "stream",
     "text": [
      "100%|██████████| 15/15 [00:33<00:00,  2.25s/it]\n",
      " 93%|█████████▎| 14/15 [13:22<00:58, 58.29s/it]"
     ]
    },
    {
     "name": "stdout",
     "output_type": "stream",
     "text": [
      "Frequency: 1.4kHz, CF target: 1500, Vector Strength: 0.6117223237592596\n"
     ]
    },
    {
     "name": "stderr",
     "output_type": "stream",
     "text": []
    },
    {
     "name": "stdout",
     "output_type": "stream",
     "text": [
      "Frequency: 1.5kHz, CF target: 100, Vector Strength: 0.040995552500279975\n"
     ]
    },
    {
     "name": "stderr",
     "output_type": "stream",
     "text": []
    },
    {
     "name": "stdout",
     "output_type": "stream",
     "text": [
      "Frequency: 1.5kHz, CF target: 200, Vector Strength: 0.13250342621566927\n"
     ]
    },
    {
     "name": "stderr",
     "output_type": "stream",
     "text": []
    },
    {
     "name": "stdout",
     "output_type": "stream",
     "text": [
      "Frequency: 1.5kHz, CF target: 300, Vector Strength: 0.2190939324674286\n"
     ]
    },
    {
     "name": "stderr",
     "output_type": "stream",
     "text": []
    },
    {
     "name": "stdout",
     "output_type": "stream",
     "text": [
      "Frequency: 1.5kHz, CF target: 400, Vector Strength: 0.07840133678003326\n"
     ]
    },
    {
     "name": "stderr",
     "output_type": "stream",
     "text": []
    },
    {
     "name": "stdout",
     "output_type": "stream",
     "text": [
      "Frequency: 1.5kHz, CF target: 500, Vector Strength: 0.146908476757899\n"
     ]
    },
    {
     "name": "stderr",
     "output_type": "stream",
     "text": []
    },
    {
     "name": "stdout",
     "output_type": "stream",
     "text": [
      "Frequency: 1.5kHz, CF target: 600, Vector Strength: 0.14931377926101677\n"
     ]
    },
    {
     "name": "stderr",
     "output_type": "stream",
     "text": []
    },
    {
     "name": "stdout",
     "output_type": "stream",
     "text": [
      "Frequency: 1.5kHz, CF target: 700, Vector Strength: 0.163764010550294\n"
     ]
    },
    {
     "name": "stderr",
     "output_type": "stream",
     "text": []
    },
    {
     "name": "stdout",
     "output_type": "stream",
     "text": [
      "Frequency: 1.5kHz, CF target: 800, Vector Strength: 0.09724890133270613\n"
     ]
    },
    {
     "name": "stderr",
     "output_type": "stream",
     "text": []
    },
    {
     "name": "stdout",
     "output_type": "stream",
     "text": [
      "Frequency: 1.5kHz, CF target: 900, Vector Strength: 0.15722235147185135\n"
     ]
    },
    {
     "name": "stderr",
     "output_type": "stream",
     "text": []
    },
    {
     "name": "stdout",
     "output_type": "stream",
     "text": [
      "Frequency: 1.5kHz, CF target: 1000, Vector Strength: 0.16933243712270082\n"
     ]
    },
    {
     "name": "stderr",
     "output_type": "stream",
     "text": []
    },
    {
     "name": "stdout",
     "output_type": "stream",
     "text": [
      "Frequency: 1.5kHz, CF target: 1100, Vector Strength: 0.4622260111519814\n"
     ]
    },
    {
     "name": "stderr",
     "output_type": "stream",
     "text": []
    },
    {
     "name": "stdout",
     "output_type": "stream",
     "text": [
      "Frequency: 1.5kHz, CF target: 1200, Vector Strength: 0.3804095969857356\n"
     ]
    },
    {
     "name": "stderr",
     "output_type": "stream",
     "text": []
    },
    {
     "name": "stdout",
     "output_type": "stream",
     "text": [
      "Frequency: 1.5kHz, CF target: 1300, Vector Strength: 0.6577754246369008\n"
     ]
    },
    {
     "name": "stderr",
     "output_type": "stream",
     "text": []
    },
    {
     "name": "stdout",
     "output_type": "stream",
     "text": [
      "Frequency: 1.5kHz, CF target: 1400, Vector Strength: 0.6418382601154417\n"
     ]
    },
    {
     "name": "stderr",
     "output_type": "stream",
     "text": [
      "100%|██████████| 15/15 [00:34<00:00,  2.32s/it]\n",
      "100%|██████████| 15/15 [14:26<00:00, 57.76s/it]"
     ]
    },
    {
     "name": "stdout",
     "output_type": "stream",
     "text": [
      "Frequency: 1.5kHz, CF target: 1500, Vector Strength: 0.6310339052965241\n"
     ]
    },
    {
     "name": "stderr",
     "output_type": "stream",
     "text": [
      "\n"
     ]
    }
   ],
   "source": [
    "# Process each frequency\n",
    "for i, tone in enumerate(tqdm(tones)):\n",
    "    # Create filename\n",
    "    title = f'tone_{tone}kHz_70dB&TanCarney&subject_1.pic'\n",
    "    result_path = result_dir + title\n",
    "\n",
    "    # Load data once per frequency\n",
    "    with open(result_path, \"rb\") as file:\n",
    "        result = dill.load(file, ignore=True)\n",
    "\n",
    "    for j, cf in enumerate(tqdm(cfs)):\n",
    "        vs_data[i, j] = calculate_vector_strength_from_result(result, 0, 'L', 'ANF', cf_target=cf)\n",
    "        print(f\"Frequency: {tone}kHz, CF target: {cf}, Vector Strength: {vs_data[i, j]}\")"
   ]
  },
  {
   "cell_type": "code",
   "execution_count": 11,
   "metadata": {},
   "outputs": [
    {
     "name": "stdout",
     "output_type": "stream",
     "text": [
      "Results saved to: /mnt/c/Users/utente/OneDrive - Politecnico di Milano/work/sl_results/vs_data_15_ANFs_15_tones.pkl\n"
     ]
    }
   ],
   "source": [
    "# Create a structured dictionary with all relevant data\n",
    "results_data = {\n",
    "    'vs_data': vs_data,\n",
    "    'tones_kHz': tones,\n",
    "    'cf_targets': cfs,\n",
    "}\n",
    "\n",
    "# Save with descriptive but shorter filename\n",
    "output_filename = f'vs_data_{len(cfs)}_ANFs_{len(tones)}_tones.pkl'\n",
    "output_path = os.path.join(result_dir, output_filename)\n",
    "with open(output_path, 'wb') as f:\n",
    "    dill.dump(results_data, f)\n",
    "print(f\"Results saved to: {output_path}\")"
   ]
  },
  {
   "cell_type": "code",
   "execution_count": null,
   "metadata": {},
   "outputs": [],
   "source": []
  }
 ],
 "metadata": {
  "kernelspec": {
   "display_name": "(hears_env)",
   "language": "python",
   "name": "hears_env"
  },
  "language_info": {
   "codemirror_mode": {
    "name": "ipython",
    "version": 3
   },
   "file_extension": ".py",
   "mimetype": "text/x-python",
   "name": "python",
   "nbconvert_exporter": "python",
   "pygments_lexer": "ipython3",
   "version": "3.12.3"
  }
 },
 "nbformat": 4,
 "nbformat_minor": 4
}
